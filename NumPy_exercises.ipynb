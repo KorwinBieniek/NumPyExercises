{
  "nbformat": 4,
  "nbformat_minor": 0,
  "metadata": {
    "colab": {
      "name": "NumPy_exercises.ipynb",
      "provenance": [],
      "collapsed_sections": [],
      "authorship_tag": "ABX9TyOG/PFPUh8RLQNqGt0zR2T5",
      "include_colab_link": true
    },
    "kernelspec": {
      "name": "python3",
      "display_name": "Python 3"
    },
    "language_info": {
      "name": "python"
    }
  },
  "cells": [
    {
      "cell_type": "markdown",
      "metadata": {
        "id": "view-in-github",
        "colab_type": "text"
      },
      "source": [
        "<a href=\"https://colab.research.google.com/github/KorwinBieniek/NumPyExercises/blob/main/NumPy_exercises.ipynb\" target=\"_parent\"><img src=\"https://colab.research.google.com/assets/colab-badge.svg\" alt=\"Open In Colab\"/></a>"
      ]
    },
    {
      "cell_type": "markdown",
      "source": [
        "# NumPy Exercises"
      ],
      "metadata": {
        "id": "cXQdm4lYLlSi"
      }
    },
    {
      "cell_type": "markdown",
      "source": [
        "## Importing NumPy and printing version number"
      ],
      "metadata": {
        "id": "SWlZdSVrLuho"
      }
    },
    {
      "cell_type": "code",
      "source": [
        "import numpy as np\n",
        "\n",
        "print(np.__version__)"
      ],
      "metadata": {
        "colab": {
          "base_uri": "https://localhost:8080/"
        },
        "id": "uX7mrAtjLttq",
        "outputId": "d64139a9-2596-4df4-81b2-f8832c7bf9d3"
      },
      "execution_count": null,
      "outputs": [
        {
          "output_type": "stream",
          "name": "stdout",
          "text": [
            "1.21.5\n"
          ]
        }
      ]
    },
    {
      "cell_type": "markdown",
      "source": [
        "## EXERCISE 1 - Element-wise addition of 2 numpy arrays\n",
        "Given are 2 similar dimensional numpy arrays, how to get a numpy array output in which every element is an element-wise sum of the 2 numpy arrays?"
      ],
      "metadata": {
        "id": "5JYQw3i2L3eS"
      }
    },
    {
      "cell_type": "code",
      "source": [
        "arr1 = np.array([[1, 2, 3], [4, 5, 6]])\n",
        "arr2 = np.array([[1, 3, 5], [0, 2, 4]])\n",
        "\n",
        "sum_arr = arr1 + arr2\n",
        "sum_arr"
      ],
      "metadata": {
        "colab": {
          "base_uri": "https://localhost:8080/"
        },
        "id": "q3FXXfnLL5eC",
        "outputId": "4300cc45-3b9d-445b-ed5f-01483bf75281"
      },
      "execution_count": null,
      "outputs": [
        {
          "output_type": "execute_result",
          "data": {
            "text/plain": [
              "array([[ 2,  5,  8],\n",
              "       [ 4,  7, 10]])"
            ]
          },
          "metadata": {},
          "execution_count": 2
        }
      ]
    },
    {
      "cell_type": "markdown",
      "source": [
        "## EXERCISE 2 - Multiplying a matrix (numpy array) by a scalar\n",
        "Given a numpy array (matrix), how to get a numpy array output which is equal to the original matrix multiplied by a scalar?"
      ],
      "metadata": {
        "id": "iPW1TzWMQQ1v"
      }
    },
    {
      "cell_type": "code",
      "source": [
        "arr = np.array([[1, 2, 3], [1, 2, 3]])\n",
        "scalar = 5\n",
        "\n",
        "arr * scalar"
      ],
      "metadata": {
        "colab": {
          "base_uri": "https://localhost:8080/"
        },
        "id": "3bvKtkEmQSBL",
        "outputId": "e83cdf3d-2e1e-4a31-c93e-069105a85976"
      },
      "execution_count": null,
      "outputs": [
        {
          "output_type": "execute_result",
          "data": {
            "text/plain": [
              "array([[ 5, 10, 15],\n",
              "       [ 5, 10, 15]])"
            ]
          },
          "metadata": {},
          "execution_count": 3
        }
      ]
    },
    {
      "cell_type": "markdown",
      "source": [
        "## EXERCISE 3 - Identity Matrix\n",
        "Create an identity matrix of dimension 4-by-4"
      ],
      "metadata": {
        "id": "lHG9Y9SrQmAp"
      }
    },
    {
      "cell_type": "code",
      "source": [
        "np.eye(4)"
      ],
      "metadata": {
        "colab": {
          "base_uri": "https://localhost:8080/"
        },
        "id": "Ny7LOdHvQm2W",
        "outputId": "4e70571a-dded-4f4f-ce89-963175540108"
      },
      "execution_count": null,
      "outputs": [
        {
          "output_type": "execute_result",
          "data": {
            "text/plain": [
              "array([[1., 0., 0., 0.],\n",
              "       [0., 1., 0., 0.],\n",
              "       [0., 0., 1., 0.],\n",
              "       [0., 0., 0., 1.]])"
            ]
          },
          "metadata": {},
          "execution_count": 4
        }
      ]
    },
    {
      "cell_type": "markdown",
      "source": [
        "## EXERCISE 4 - Array re-dimensioning\n",
        "Convert a 1-D array to a 3-D array"
      ],
      "metadata": {
        "id": "lFhHaBVdTeeC"
      }
    },
    {
      "cell_type": "code",
      "source": [
        "arr1d = np.array([x for x in range(27)])\n",
        "\n",
        "arr3d = arr1d.reshape(3, 3, 3)\n",
        "\n",
        "arr3d"
      ],
      "metadata": {
        "colab": {
          "base_uri": "https://localhost:8080/"
        },
        "id": "jFamd1U8TgTc",
        "outputId": "eee870a8-8e26-4ca9-d270-794b53f75f4d"
      },
      "execution_count": null,
      "outputs": [
        {
          "output_type": "execute_result",
          "data": {
            "text/plain": [
              "array([[[ 0,  1,  2],\n",
              "        [ 3,  4,  5],\n",
              "        [ 6,  7,  8]],\n",
              "\n",
              "       [[ 9, 10, 11],\n",
              "        [12, 13, 14],\n",
              "        [15, 16, 17]],\n",
              "\n",
              "       [[18, 19, 20],\n",
              "        [21, 22, 23],\n",
              "        [24, 25, 26]]])"
            ]
          },
          "metadata": {},
          "execution_count": 8
        }
      ]
    },
    {
      "cell_type": "markdown",
      "source": [
        "## EXERCISE 5 - Array datatype conversion\n",
        "Convert all the elements of a numpy array from float to integer datatype"
      ],
      "metadata": {
        "id": "O3M_refaTt8-"
      }
    },
    {
      "cell_type": "code",
      "source": [
        "arr_floats = np.array([1.2, 3.5, 4.6, 2.2, -1.3, 0.0, 3, 3.6, 7.8, 11.2])\n",
        "\n",
        "arr_ints = arr_floats.astype('int')\n",
        "\n",
        "arr_ints"
      ],
      "metadata": {
        "colab": {
          "base_uri": "https://localhost:8080/"
        },
        "id": "aEwqNBjMTxGy",
        "outputId": "b7272def-0987-408e-ffb9-f1165b983871"
      },
      "execution_count": null,
      "outputs": [
        {
          "output_type": "execute_result",
          "data": {
            "text/plain": [
              "array([ 1,  3,  4,  2, -1,  0,  3,  3,  7, 11])"
            ]
          },
          "metadata": {},
          "execution_count": 11
        }
      ]
    },
    {
      "cell_type": "markdown",
      "source": [
        "## EXERCISE 6 - Obtaining Boolean Array from Binary Array\n",
        "Convert a binary numpy array (containing only 0s and 1s) to a boolean numpy array"
      ],
      "metadata": {
        "id": "mgpulDblUZ4j"
      }
    },
    {
      "cell_type": "code",
      "source": [
        "bin_arr = np.array([[1, 0, 1], [1, 1, 1], [0, 0, 0]])\n",
        "\n",
        "bool_arr = bin_arr.astype('bool')\n",
        "\n",
        "bool_arr"
      ],
      "metadata": {
        "colab": {
          "base_uri": "https://localhost:8080/"
        },
        "id": "jhWAyN_aUfJ7",
        "outputId": "20c31e8a-0196-434c-cc5e-f5890c92225e"
      },
      "execution_count": null,
      "outputs": [
        {
          "output_type": "execute_result",
          "data": {
            "text/plain": [
              "array([[ True, False,  True],\n",
              "       [ True,  True,  True],\n",
              "       [False, False, False]])"
            ]
          },
          "metadata": {},
          "execution_count": 13
        }
      ]
    },
    {
      "cell_type": "markdown",
      "source": [
        "## EXERCISE 7 - Horizontal Stacking of Numpy Arrays\n",
        "Stack 2 numpy arrays horizontally i.e., 2 arrays having the same 1st dimension (number of rows in 2D arrays)"
      ],
      "metadata": {
        "id": "XJMuHHBJVGcI"
      }
    },
    {
      "cell_type": "code",
      "source": [
        "arr1 = np.array([1, 2, 3, 4, 5])\n",
        "arr2 = np.array([2, 3, 4, 5, 6])\n",
        "\n",
        "h_stacked_arr = np.hstack((arr1, arr2))\n",
        "\n",
        "h_stacked_arr"
      ],
      "metadata": {
        "colab": {
          "base_uri": "https://localhost:8080/"
        },
        "id": "7JrCFumMVHQe",
        "outputId": "924e0f8e-6850-473f-90b6-e7f00c96b1e8"
      },
      "execution_count": null,
      "outputs": [
        {
          "output_type": "execute_result",
          "data": {
            "text/plain": [
              "array([1, 2, 3, 4, 5, 2, 3, 4, 5, 6])"
            ]
          },
          "metadata": {},
          "execution_count": 17
        }
      ]
    },
    {
      "cell_type": "markdown",
      "source": [
        "## EXERCISE 8 - Vertically Stacking of Numpy Arrays\n",
        "Stack 2 numpy arrays vertically i.e., 2 arrays having the same last dimension (number of columns in 2D arrays)"
      ],
      "metadata": {
        "id": "1wZa4y6jVMgZ"
      }
    },
    {
      "cell_type": "code",
      "source": [
        "arr1 = np.array([1, 2, 3, 4, 5])\n",
        "arr2 = np.array([2, 3, 4, 5, 6])\n",
        "\n",
        "v_stacked_arr = np.vstack((arr1, arr2))\n",
        "\n",
        "v_stacked_arr"
      ],
      "metadata": {
        "colab": {
          "base_uri": "https://localhost:8080/"
        },
        "id": "frzjcivVVNPW",
        "outputId": "68e73fb4-80e3-4ca2-ca71-024b706d7937"
      },
      "execution_count": null,
      "outputs": [
        {
          "output_type": "execute_result",
          "data": {
            "text/plain": [
              "array([[1, 2, 3, 4, 5],\n",
              "       [2, 3, 4, 5, 6]])"
            ]
          },
          "metadata": {},
          "execution_count": 18
        }
      ]
    },
    {
      "cell_type": "markdown",
      "source": [
        "## EXERCISE 9 - Custom Sequence Generation\n",
        "Generate a sequence of numbers in the form of a numpy array from 0 to 100 with gaps of 2 numbers, for example: 0, 2, 4 ...."
      ],
      "metadata": {
        "id": "6OecN5v5VNa7"
      }
    },
    {
      "cell_type": "code",
      "source": [
        "rand_arr = np.array([x for x in range(0, 101, 2)])\n",
        "\n",
        "rand_arr"
      ],
      "metadata": {
        "colab": {
          "base_uri": "https://localhost:8080/"
        },
        "id": "RAl1KwitVQFG",
        "outputId": "dd40ba88-f2e1-4d5c-d437-ae73db6f0704"
      },
      "execution_count": null,
      "outputs": [
        {
          "output_type": "execute_result",
          "data": {
            "text/plain": [
              "array([  0,   2,   4,   6,   8,  10,  12,  14,  16,  18,  20,  22,  24,\n",
              "        26,  28,  30,  32,  34,  36,  38,  40,  42,  44,  46,  48,  50,\n",
              "        52,  54,  56,  58,  60,  62,  64,  66,  68,  70,  72,  74,  76,\n",
              "        78,  80,  82,  84,  86,  88,  90,  92,  94,  96,  98, 100])"
            ]
          },
          "metadata": {},
          "execution_count": 19
        }
      ]
    },
    {
      "cell_type": "markdown",
      "source": [
        "## EXERCISE 10 - Getting the positions (indexes) where elements of 2 numpy arrays match\n",
        "From 2 numpy arrays, extract the indexes in which the elements in the 2 arrays match"
      ],
      "metadata": {
        "id": "mH0UnmvAVQRj"
      }
    },
    {
      "cell_type": "code",
      "source": [
        "arr1 = np.array([1, 2, 3, 4, 5])\n",
        "arr2 = np.array([1, 3, 3, 2, 5])\n",
        "\n",
        "print(np.where(arr1 == arr2))"
      ],
      "metadata": {
        "colab": {
          "base_uri": "https://localhost:8080/"
        },
        "id": "KAM7OP1NVSvh",
        "outputId": "4b9b5611-a701-490a-f71e-35273608dfca"
      },
      "execution_count": null,
      "outputs": [
        {
          "output_type": "stream",
          "name": "stdout",
          "text": [
            "(array([0, 2, 4]),)\n"
          ]
        }
      ]
    },
    {
      "cell_type": "markdown",
      "source": [
        "## EXERCISE 11 - Generation of given count of equally spaced numbers within a specified range\n",
        "Output a sequence of equally gapped 5 numbers in the range 0 to 100 (both inclusive)"
      ],
      "metadata": {
        "id": "n69nlUqgVS4O"
      }
    },
    {
      "cell_type": "code",
      "source": [
        "arr1 = np.linspace(0, 100, 5)\n",
        "arr1"
      ],
      "metadata": {
        "id": "Tf1FIl32VVUU",
        "colab": {
          "base_uri": "https://localhost:8080/"
        },
        "outputId": "1ac3eac7-8819-4ba8-fe7e-74e95051ec88"
      },
      "execution_count": 24,
      "outputs": [
        {
          "output_type": "execute_result",
          "data": {
            "text/plain": [
              "array([  0.,  25.,  50.,  75., 100.])"
            ]
          },
          "metadata": {},
          "execution_count": 24
        }
      ]
    },
    {
      "cell_type": "markdown",
      "source": [
        "## EXERCISE 12 - Matrix Generation with one particular value\n",
        "Output a matrix (numpy array) of dimension 2-by-3 with each and every value equal to 5"
      ],
      "metadata": {
        "id": "3BORC40qVYGD"
      }
    },
    {
      "cell_type": "code",
      "source": [
        "arr_of_fives = np.full((2, 3), 5)\n",
        "\n",
        "arr_of_fives"
      ],
      "metadata": {
        "id": "fvDa7_1eVYz7",
        "colab": {
          "base_uri": "https://localhost:8080/"
        },
        "outputId": "9514d981-476c-4858-8806-b872ccc2ebaa"
      },
      "execution_count": 25,
      "outputs": [
        {
          "output_type": "execute_result",
          "data": {
            "text/plain": [
              "array([[5, 5, 5],\n",
              "       [5, 5, 5]])"
            ]
          },
          "metadata": {},
          "execution_count": 25
        }
      ]
    },
    {
      "cell_type": "markdown",
      "source": [
        "### OR"
      ],
      "metadata": {
        "id": "VifgOLjflEOB"
      }
    },
    {
      "cell_type": "code",
      "source": [
        "arr_of_fives = np.ones((2, 3))\n",
        "\n",
        "arr_of_fives *= 5\n",
        "\n",
        "arr_of_fives = arr_of_fives.astype('int')\n",
        "\n",
        "arr_of_fives"
      ],
      "metadata": {
        "colab": {
          "base_uri": "https://localhost:8080/"
        },
        "id": "mnsk64ELlFU5",
        "outputId": "2edb1cfd-7462-419a-db9d-16133c8ae8f8"
      },
      "execution_count": 29,
      "outputs": [
        {
          "output_type": "execute_result",
          "data": {
            "text/plain": [
              "array([[5, 5, 5],\n",
              "       [5, 5, 5]])"
            ]
          },
          "metadata": {},
          "execution_count": 29
        }
      ]
    },
    {
      "cell_type": "markdown",
      "source": [
        "## EXERCISE 13 - Array Generation by repeatition of a small array across each dimension\n",
        "Output an array by repeating a smaller array of 2 dimensions, 10 times"
      ],
      "metadata": {
        "id": "ZNRrtA4hVZCN"
      }
    },
    {
      "cell_type": "code",
      "source": [
        "arr1 = np.array([x for x in range(0, 10)])\n",
        "\n",
        "arr1 = np.tile(arr1, 10)\n",
        "\n",
        "arr1.shape\n",
        "\n",
        "arr1"
      ],
      "metadata": {
        "id": "D3BIv9EHVbQ7",
        "colab": {
          "base_uri": "https://localhost:8080/"
        },
        "outputId": "a0781828-0ea0-44a1-c6c5-430866cf5be1"
      },
      "execution_count": 32,
      "outputs": [
        {
          "output_type": "execute_result",
          "data": {
            "text/plain": [
              "array([0, 1, 2, 3, 4, 5, 6, 7, 8, 9, 0, 1, 2, 3, 4, 5, 6, 7, 8, 9, 0, 1,\n",
              "       2, 3, 4, 5, 6, 7, 8, 9, 0, 1, 2, 3, 4, 5, 6, 7, 8, 9, 0, 1, 2, 3,\n",
              "       4, 5, 6, 7, 8, 9, 0, 1, 2, 3, 4, 5, 6, 7, 8, 9, 0, 1, 2, 3, 4, 5,\n",
              "       6, 7, 8, 9, 0, 1, 2, 3, 4, 5, 6, 7, 8, 9, 0, 1, 2, 3, 4, 5, 6, 7,\n",
              "       8, 9, 0, 1, 2, 3, 4, 5, 6, 7, 8, 9])"
            ]
          },
          "metadata": {},
          "execution_count": 32
        }
      ]
    },
    {
      "cell_type": "markdown",
      "source": [
        "## EXERCISE 14 - Array Generation of random integers within a specified range\n",
        "Output a 5-by-5 array of random integers between 0 (inclusive) and 10 (exclusive)"
      ],
      "metadata": {
        "id": "rm4HMV5BVbgB"
      }
    },
    {
      "cell_type": "code",
      "source": [
        "np.random.seed(123)\n",
        "arr1 = np.random.randint(0, 10, size = (5,5))\n",
        "arr1"
      ],
      "metadata": {
        "id": "mzH6M6aDVens",
        "colab": {
          "base_uri": "https://localhost:8080/"
        },
        "outputId": "bf29c353-02cf-4d93-f938-b4f679417354"
      },
      "execution_count": 40,
      "outputs": [
        {
          "output_type": "execute_result",
          "data": {
            "text/plain": [
              "array([[2, 2, 6, 1, 3],\n",
              "       [9, 6, 1, 0, 1],\n",
              "       [9, 0, 0, 9, 3],\n",
              "       [4, 0, 0, 4, 1],\n",
              "       [7, 3, 2, 4, 7]])"
            ]
          },
          "metadata": {},
          "execution_count": 40
        }
      ]
    },
    {
      "cell_type": "markdown",
      "source": [
        "## EXERCISE 15 - Array Generation of random numbers following normal distribution\n",
        "Output a 3-by-3 array of random numbers following normal distribution"
      ],
      "metadata": {
        "id": "foZjk1tRVewS"
      }
    },
    {
      "cell_type": "code",
      "source": [
        "np.random.seed(123)\n",
        "\n",
        "arr1 = np.random.normal(size=(5,5))\n",
        "\n",
        "arr1"
      ],
      "metadata": {
        "id": "12mPUEn-VhsE",
        "colab": {
          "base_uri": "https://localhost:8080/"
        },
        "outputId": "290925bd-5c87-40f1-8131-c33d1a228465"
      },
      "execution_count": 43,
      "outputs": [
        {
          "output_type": "execute_result",
          "data": {
            "text/plain": [
              "array([[-1.0856306 ,  0.99734545,  0.2829785 , -1.50629471, -0.57860025],\n",
              "       [ 1.65143654, -2.42667924, -0.42891263,  1.26593626, -0.8667404 ],\n",
              "       [-0.67888615, -0.09470897,  1.49138963, -0.638902  , -0.44398196],\n",
              "       [-0.43435128,  2.20593008,  2.18678609,  1.0040539 ,  0.3861864 ],\n",
              "       [ 0.73736858,  1.49073203, -0.93583387,  1.17582904, -1.25388067]])"
            ]
          },
          "metadata": {},
          "execution_count": 43
        }
      ]
    },
    {
      "cell_type": "markdown",
      "source": [
        "## EXERCISE 16 - Matrix Multiplication\n",
        "Given 2 numpy arrays as matrices, output the result of multiplying the 2 matrices (as a numpy array)"
      ],
      "metadata": {
        "id": "mYjo4mjCVh2g"
      }
    },
    {
      "cell_type": "code",
      "source": [
        "matrice1 = np.array([[1, 2, 3],\n",
        "                    [2, 3, 4],\n",
        "                    [3, 4, 5]])\n",
        "matrice2 = np.array([[2, 3, 4],\n",
        "                    [3, 4, 5],\n",
        "                    [4, 5, 6]])\n",
        "\n",
        "print(matrice1@matrice2)\n",
        "\n",
        "print(np.matmul(matrice1, matrice2))"
      ],
      "metadata": {
        "id": "U28cYQd6Vkom",
        "colab": {
          "base_uri": "https://localhost:8080/"
        },
        "outputId": "da5d156c-9b9f-4c14-c158-417e1d0fa823"
      },
      "execution_count": 48,
      "outputs": [
        {
          "output_type": "stream",
          "name": "stdout",
          "text": [
            "[[20 26 32]\n",
            " [29 38 47]\n",
            " [38 50 62]]\n",
            "[[20 26 32]\n",
            " [29 38 47]\n",
            " [38 50 62]]\n"
          ]
        }
      ]
    },
    {
      "cell_type": "markdown",
      "source": [
        "## EXERCISE 17 - Matrix Transpose\n",
        "Output the transpose of a matrix (as numpy array)"
      ],
      "metadata": {
        "id": "S2JRZxdmVkyT"
      }
    },
    {
      "cell_type": "code",
      "source": [
        "matrice = np.array([[1, 2, 3],\n",
        "                    [6, 3, 4],\n",
        "                    [5, 4, 5]])\n",
        "\n",
        "transposed_matrice = matrice.T\n",
        "\n",
        "transposed_matrice"
      ],
      "metadata": {
        "id": "qmiWFE4NVoHb",
        "colab": {
          "base_uri": "https://localhost:8080/"
        },
        "outputId": "4de9765a-783a-4334-adf6-0321f9e892b5"
      },
      "execution_count": 50,
      "outputs": [
        {
          "output_type": "execute_result",
          "data": {
            "text/plain": [
              "array([[1, 6, 5],\n",
              "       [2, 3, 4],\n",
              "       [3, 4, 5]])"
            ]
          },
          "metadata": {},
          "execution_count": 50
        }
      ]
    },
    {
      "cell_type": "markdown",
      "source": [
        "## EXERCISE 18 - Sine of an Angle (in radians)\n",
        "Calculate the sine of an array of angles (in radians) using NumPy"
      ],
      "metadata": {
        "id": "b8tx5Gy6VoYv"
      }
    },
    {
      "cell_type": "code",
      "source": [
        "angles = np.array([3.14, 1.57, 6.28])\n",
        "\n",
        "sine_of_array = np.sin(angles)\n",
        "\n",
        "sine_of_array"
      ],
      "metadata": {
        "id": "IA63fmmEVq77",
        "colab": {
          "base_uri": "https://localhost:8080/"
        },
        "outputId": "86f0eef7-3e33-497b-f965-85e317040f44"
      },
      "execution_count": 52,
      "outputs": [
        {
          "output_type": "execute_result",
          "data": {
            "text/plain": [
              "array([ 0.00159265,  0.99999968, -0.0031853 ])"
            ]
          },
          "metadata": {},
          "execution_count": 52
        }
      ]
    },
    {
      "cell_type": "markdown",
      "source": [
        "## EXERCISE 19 - Cosine Similarity\n",
        "Calculate the cosine similarity of 2 vectors (as numpy arrays)"
      ],
      "metadata": {
        "id": "gXXDRtv4VrGg"
      }
    },
    {
      "cell_type": "code",
      "source": [
        "angles = np.array([3.14, 1.57, 6.28])\n",
        "\n",
        "cos_of_array = np.cos(angles)\n",
        "\n",
        "cos_of_array"
      ],
      "metadata": {
        "id": "M2YraauPVurx",
        "colab": {
          "base_uri": "https://localhost:8080/"
        },
        "outputId": "c99f5208-e1f4-4f87-9d94-ed24bb7bb5e5"
      },
      "execution_count": 53,
      "outputs": [
        {
          "output_type": "execute_result",
          "data": {
            "text/plain": [
              "array([-9.99998732e-01,  7.96326711e-04,  9.99994927e-01])"
            ]
          },
          "metadata": {},
          "execution_count": 53
        }
      ]
    },
    {
      "cell_type": "markdown",
      "source": [
        "## EXERCISE 20 - Generating the array element indexes such that the array elements appear in ascending order\n",
        "Output the array element indexes such that the array elements appear in the ascending order"
      ],
      "metadata": {
        "id": "OLcbJZxxVu1H"
      }
    },
    {
      "cell_type": "code",
      "source": [
        "big_arr = np.random.randint(0, 100, size=(10, 10))\n",
        "big_arr\n",
        "\n",
        "big_arr = np.argsort(big_arr)\n",
        "\n",
        "big_arr"
      ],
      "metadata": {
        "id": "fMOk_sECVzKP",
        "colab": {
          "base_uri": "https://localhost:8080/"
        },
        "outputId": "ba1091a7-f7e2-4100-bfb2-443b0ee11601"
      },
      "execution_count": 57,
      "outputs": [
        {
          "output_type": "execute_result",
          "data": {
            "text/plain": [
              "array([[0, 4, 7, 2, 1, 8, 3, 9, 6, 5],\n",
              "       [8, 1, 5, 0, 6, 4, 3, 9, 2, 7],\n",
              "       [7, 8, 1, 2, 6, 4, 9, 3, 0, 5],\n",
              "       [2, 1, 5, 0, 3, 4, 6, 8, 7, 9],\n",
              "       [5, 0, 1, 2, 8, 4, 3, 7, 9, 6],\n",
              "       [3, 8, 2, 4, 0, 6, 7, 5, 9, 1],\n",
              "       [1, 3, 8, 5, 4, 0, 7, 6, 9, 2],\n",
              "       [6, 5, 4, 8, 1, 0, 2, 9, 3, 7],\n",
              "       [5, 4, 8, 0, 7, 1, 3, 9, 6, 2],\n",
              "       [7, 4, 8, 1, 5, 9, 2, 0, 3, 6]])"
            ]
          },
          "metadata": {},
          "execution_count": 57
        }
      ]
    }
  ]
}