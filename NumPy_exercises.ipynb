{
  "nbformat": 4,
  "nbformat_minor": 0,
  "metadata": {
    "colab": {
      "name": "NumPy_exercises.ipynb",
      "provenance": [],
      "collapsed_sections": [],
      "authorship_tag": "ABX9TyOKJELUQGoKbsvnayU/ilqo",
      "include_colab_link": true
    },
    "kernelspec": {
      "name": "python3",
      "display_name": "Python 3"
    },
    "language_info": {
      "name": "python"
    }
  },
  "cells": [
    {
      "cell_type": "markdown",
      "metadata": {
        "id": "view-in-github",
        "colab_type": "text"
      },
      "source": [
        "<a href=\"https://colab.research.google.com/github/KorwinBieniek/NumPyExercises/blob/main/NumPy_exercises.ipynb\" target=\"_parent\"><img src=\"https://colab.research.google.com/assets/colab-badge.svg\" alt=\"Open In Colab\"/></a>"
      ]
    },
    {
      "cell_type": "markdown",
      "source": [
        "# NumPy Exercises"
      ],
      "metadata": {
        "id": "cXQdm4lYLlSi"
      }
    },
    {
      "cell_type": "markdown",
      "source": [
        "## Importing NumPy and printing version number"
      ],
      "metadata": {
        "id": "SWlZdSVrLuho"
      }
    },
    {
      "cell_type": "code",
      "source": [
        "import numpy as np\n",
        "\n",
        "print(np.__version__)"
      ],
      "metadata": {
        "colab": {
          "base_uri": "https://localhost:8080/"
        },
        "id": "uX7mrAtjLttq",
        "outputId": "d64139a9-2596-4df4-81b2-f8832c7bf9d3"
      },
      "execution_count": null,
      "outputs": [
        {
          "output_type": "stream",
          "name": "stdout",
          "text": [
            "1.21.5\n"
          ]
        }
      ]
    },
    {
      "cell_type": "markdown",
      "source": [
        "## EXERCISE 1 - Element-wise addition of 2 numpy arrays\n",
        "Given are 2 similar dimensional numpy arrays, how to get a numpy array output in which every element is an element-wise sum of the 2 numpy arrays?"
      ],
      "metadata": {
        "id": "5JYQw3i2L3eS"
      }
    },
    {
      "cell_type": "code",
      "source": [
        "arr1 = np.array([[1, 2, 3], [4, 5, 6]])\n",
        "arr2 = np.array([[1, 3, 5], [0, 2, 4]])\n",
        "\n",
        "sum_arr = arr1 + arr2\n",
        "sum_arr"
      ],
      "metadata": {
        "colab": {
          "base_uri": "https://localhost:8080/"
        },
        "id": "q3FXXfnLL5eC",
        "outputId": "4300cc45-3b9d-445b-ed5f-01483bf75281"
      },
      "execution_count": null,
      "outputs": [
        {
          "output_type": "execute_result",
          "data": {
            "text/plain": [
              "array([[ 2,  5,  8],\n",
              "       [ 4,  7, 10]])"
            ]
          },
          "metadata": {},
          "execution_count": 2
        }
      ]
    },
    {
      "cell_type": "markdown",
      "source": [
        "## EXERCISE 2 - Multiplying a matrix (numpy array) by a scalar\n",
        "Given a numpy array (matrix), how to get a numpy array output which is equal to the original matrix multiplied by a scalar?"
      ],
      "metadata": {
        "id": "iPW1TzWMQQ1v"
      }
    },
    {
      "cell_type": "code",
      "source": [
        "arr = np.array([[1, 2, 3], [1, 2, 3]])\n",
        "scalar = 5\n",
        "\n",
        "arr * scalar"
      ],
      "metadata": {
        "colab": {
          "base_uri": "https://localhost:8080/"
        },
        "id": "3bvKtkEmQSBL",
        "outputId": "e83cdf3d-2e1e-4a31-c93e-069105a85976"
      },
      "execution_count": null,
      "outputs": [
        {
          "output_type": "execute_result",
          "data": {
            "text/plain": [
              "array([[ 5, 10, 15],\n",
              "       [ 5, 10, 15]])"
            ]
          },
          "metadata": {},
          "execution_count": 3
        }
      ]
    },
    {
      "cell_type": "markdown",
      "source": [
        "## EXERCISE 3 - Identity Matrix\n",
        "Create an identity matrix of dimension 4-by-4"
      ],
      "metadata": {
        "id": "lHG9Y9SrQmAp"
      }
    },
    {
      "cell_type": "code",
      "source": [
        "np.eye(4)"
      ],
      "metadata": {
        "colab": {
          "base_uri": "https://localhost:8080/"
        },
        "id": "Ny7LOdHvQm2W",
        "outputId": "4e70571a-dded-4f4f-ce89-963175540108"
      },
      "execution_count": null,
      "outputs": [
        {
          "output_type": "execute_result",
          "data": {
            "text/plain": [
              "array([[1., 0., 0., 0.],\n",
              "       [0., 1., 0., 0.],\n",
              "       [0., 0., 1., 0.],\n",
              "       [0., 0., 0., 1.]])"
            ]
          },
          "metadata": {},
          "execution_count": 4
        }
      ]
    },
    {
      "cell_type": "markdown",
      "source": [
        "## EXERCISE 4 - Array re-dimensioning\n",
        "Convert a 1-D array to a 3-D array"
      ],
      "metadata": {
        "id": "lFhHaBVdTeeC"
      }
    },
    {
      "cell_type": "code",
      "source": [
        "arr1d = np.array([x for x in range(27)])\n",
        "\n",
        "arr3d = arr1d.reshape(3, 3, 3)\n",
        "\n",
        "arr3d"
      ],
      "metadata": {
        "colab": {
          "base_uri": "https://localhost:8080/"
        },
        "id": "jFamd1U8TgTc",
        "outputId": "eee870a8-8e26-4ca9-d270-794b53f75f4d"
      },
      "execution_count": null,
      "outputs": [
        {
          "output_type": "execute_result",
          "data": {
            "text/plain": [
              "array([[[ 0,  1,  2],\n",
              "        [ 3,  4,  5],\n",
              "        [ 6,  7,  8]],\n",
              "\n",
              "       [[ 9, 10, 11],\n",
              "        [12, 13, 14],\n",
              "        [15, 16, 17]],\n",
              "\n",
              "       [[18, 19, 20],\n",
              "        [21, 22, 23],\n",
              "        [24, 25, 26]]])"
            ]
          },
          "metadata": {},
          "execution_count": 8
        }
      ]
    },
    {
      "cell_type": "markdown",
      "source": [
        "## EXERCISE 5 - Array datatype conversion\n",
        "Convert all the elements of a numpy array from float to integer datatype"
      ],
      "metadata": {
        "id": "O3M_refaTt8-"
      }
    },
    {
      "cell_type": "code",
      "source": [
        "arr_floats = np.array([1.2, 3.5, 4.6, 2.2, -1.3, 0.0, 3, 3.6, 7.8, 11.2])\n",
        "\n",
        "arr_ints = arr_floats.astype('int')\n",
        "\n",
        "arr_ints"
      ],
      "metadata": {
        "colab": {
          "base_uri": "https://localhost:8080/"
        },
        "id": "aEwqNBjMTxGy",
        "outputId": "b7272def-0987-408e-ffb9-f1165b983871"
      },
      "execution_count": null,
      "outputs": [
        {
          "output_type": "execute_result",
          "data": {
            "text/plain": [
              "array([ 1,  3,  4,  2, -1,  0,  3,  3,  7, 11])"
            ]
          },
          "metadata": {},
          "execution_count": 11
        }
      ]
    },
    {
      "cell_type": "markdown",
      "source": [
        "## EXERCISE 6 - Obtaining Boolean Array from Binary Array\n",
        "Convert a binary numpy array (containing only 0s and 1s) to a boolean numpy array"
      ],
      "metadata": {
        "id": "mgpulDblUZ4j"
      }
    },
    {
      "cell_type": "code",
      "source": [
        "bin_arr = np.array([[1, 0, 1], [1, 1, 1], [0, 0, 0]])\n",
        "\n",
        "bool_arr = bin_arr.astype('bool')\n",
        "\n",
        "bool_arr"
      ],
      "metadata": {
        "colab": {
          "base_uri": "https://localhost:8080/"
        },
        "id": "jhWAyN_aUfJ7",
        "outputId": "20c31e8a-0196-434c-cc5e-f5890c92225e"
      },
      "execution_count": null,
      "outputs": [
        {
          "output_type": "execute_result",
          "data": {
            "text/plain": [
              "array([[ True, False,  True],\n",
              "       [ True,  True,  True],\n",
              "       [False, False, False]])"
            ]
          },
          "metadata": {},
          "execution_count": 13
        }
      ]
    },
    {
      "cell_type": "markdown",
      "source": [
        "## EXERCISE 7 - Horizontal Stacking of Numpy Arrays\n",
        "Stack 2 numpy arrays horizontally i.e., 2 arrays having the same 1st dimension (number of rows in 2D arrays)"
      ],
      "metadata": {
        "id": "XJMuHHBJVGcI"
      }
    },
    {
      "cell_type": "code",
      "source": [
        "arr1 = np.array([1, 2, 3, 4, 5])\n",
        "arr2 = np.array([2, 3, 4, 5, 6])\n",
        "\n",
        "h_stacked_arr = np.hstack((arr1, arr2))\n",
        "\n",
        "h_stacked_arr"
      ],
      "metadata": {
        "colab": {
          "base_uri": "https://localhost:8080/"
        },
        "id": "7JrCFumMVHQe",
        "outputId": "924e0f8e-6850-473f-90b6-e7f00c96b1e8"
      },
      "execution_count": null,
      "outputs": [
        {
          "output_type": "execute_result",
          "data": {
            "text/plain": [
              "array([1, 2, 3, 4, 5, 2, 3, 4, 5, 6])"
            ]
          },
          "metadata": {},
          "execution_count": 17
        }
      ]
    },
    {
      "cell_type": "markdown",
      "source": [
        "## EXERCISE 8 - Vertically Stacking of Numpy Arrays\n",
        "Stack 2 numpy arrays vertically i.e., 2 arrays having the same last dimension (number of columns in 2D arrays)"
      ],
      "metadata": {
        "id": "1wZa4y6jVMgZ"
      }
    },
    {
      "cell_type": "code",
      "source": [
        "arr1 = np.array([1, 2, 3, 4, 5])\n",
        "arr2 = np.array([2, 3, 4, 5, 6])\n",
        "\n",
        "v_stacked_arr = np.vstack((arr1, arr2))\n",
        "\n",
        "v_stacked_arr"
      ],
      "metadata": {
        "colab": {
          "base_uri": "https://localhost:8080/"
        },
        "id": "frzjcivVVNPW",
        "outputId": "68e73fb4-80e3-4ca2-ca71-024b706d7937"
      },
      "execution_count": null,
      "outputs": [
        {
          "output_type": "execute_result",
          "data": {
            "text/plain": [
              "array([[1, 2, 3, 4, 5],\n",
              "       [2, 3, 4, 5, 6]])"
            ]
          },
          "metadata": {},
          "execution_count": 18
        }
      ]
    },
    {
      "cell_type": "markdown",
      "source": [
        "## EXERCISE 9 - Custom Sequence Generation\n",
        "Generate a sequence of numbers in the form of a numpy array from 0 to 100 with gaps of 2 numbers, for example: 0, 2, 4 ...."
      ],
      "metadata": {
        "id": "6OecN5v5VNa7"
      }
    },
    {
      "cell_type": "code",
      "source": [
        "rand_arr = np.array([x for x in range(0, 101, 2)])\n",
        "\n",
        "rand_arr"
      ],
      "metadata": {
        "colab": {
          "base_uri": "https://localhost:8080/"
        },
        "id": "RAl1KwitVQFG",
        "outputId": "dd40ba88-f2e1-4d5c-d437-ae73db6f0704"
      },
      "execution_count": null,
      "outputs": [
        {
          "output_type": "execute_result",
          "data": {
            "text/plain": [
              "array([  0,   2,   4,   6,   8,  10,  12,  14,  16,  18,  20,  22,  24,\n",
              "        26,  28,  30,  32,  34,  36,  38,  40,  42,  44,  46,  48,  50,\n",
              "        52,  54,  56,  58,  60,  62,  64,  66,  68,  70,  72,  74,  76,\n",
              "        78,  80,  82,  84,  86,  88,  90,  92,  94,  96,  98, 100])"
            ]
          },
          "metadata": {},
          "execution_count": 19
        }
      ]
    },
    {
      "cell_type": "markdown",
      "source": [
        "## EXERCISE 10 - Getting the positions (indexes) where elements of 2 numpy arrays match\n",
        "From 2 numpy arrays, extract the indexes in which the elements in the 2 arrays match"
      ],
      "metadata": {
        "id": "mH0UnmvAVQRj"
      }
    },
    {
      "cell_type": "code",
      "source": [
        "arr1 = np.array([1, 2, 3, 4, 5])\n",
        "arr2 = np.array([1, 3, 3, 2, 5])\n",
        "\n",
        "print(np.where(arr1 == arr2))"
      ],
      "metadata": {
        "colab": {
          "base_uri": "https://localhost:8080/"
        },
        "id": "KAM7OP1NVSvh",
        "outputId": "4b9b5611-a701-490a-f71e-35273608dfca"
      },
      "execution_count": null,
      "outputs": [
        {
          "output_type": "stream",
          "name": "stdout",
          "text": [
            "(array([0, 2, 4]),)\n"
          ]
        }
      ]
    },
    {
      "cell_type": "markdown",
      "source": [
        "## EXERCISE 11 - Generation of given count of equally spaced numbers within a specified range\n",
        "Output a sequence of equally gapped 5 numbers in the range 0 to 100 (both inclusive)"
      ],
      "metadata": {
        "id": "n69nlUqgVS4O"
      }
    },
    {
      "cell_type": "code",
      "source": [
        ""
      ],
      "metadata": {
        "id": "Tf1FIl32VVUU"
      },
      "execution_count": null,
      "outputs": []
    },
    {
      "cell_type": "markdown",
      "source": [
        "## EXERCISE 12 - Matrix Generation with one particular value\n",
        "Output a matrix (numpy array) of dimension 2-by-3 with each and every value equal to 5"
      ],
      "metadata": {
        "id": "3BORC40qVYGD"
      }
    },
    {
      "cell_type": "code",
      "source": [
        ""
      ],
      "metadata": {
        "id": "fvDa7_1eVYz7"
      },
      "execution_count": null,
      "outputs": []
    },
    {
      "cell_type": "markdown",
      "source": [
        "## EXERCISE 13 - Array Generation by repeatition of a small array across each dimension\n",
        "Output an array by repeating a smaller array of 2 dimensions, 10 times"
      ],
      "metadata": {
        "id": "ZNRrtA4hVZCN"
      }
    },
    {
      "cell_type": "code",
      "source": [
        ""
      ],
      "metadata": {
        "id": "D3BIv9EHVbQ7"
      },
      "execution_count": null,
      "outputs": []
    },
    {
      "cell_type": "markdown",
      "source": [
        "## EXERCISE 14 - Array Generation of random integers within a specified range\n",
        "Output a 5-by-5 array of random integers between 0 (inclusive) and 10 (exclusive)"
      ],
      "metadata": {
        "id": "rm4HMV5BVbgB"
      }
    },
    {
      "cell_type": "code",
      "source": [
        ""
      ],
      "metadata": {
        "id": "mzH6M6aDVens"
      },
      "execution_count": null,
      "outputs": []
    },
    {
      "cell_type": "markdown",
      "source": [
        "## EXERCISE 15 - Array Generation of random numbers following normal distribution\n",
        "Output a 3-by-3 array of random numbers following normal distribution"
      ],
      "metadata": {
        "id": "foZjk1tRVewS"
      }
    },
    {
      "cell_type": "code",
      "source": [
        ""
      ],
      "metadata": {
        "id": "12mPUEn-VhsE"
      },
      "execution_count": null,
      "outputs": []
    },
    {
      "cell_type": "markdown",
      "source": [
        "## EXERCISE 16 - Matrix Multiplication\n",
        "Given 2 numpy arrays as matrices, output the result of multiplying the 2 matrices (as a numpy array)"
      ],
      "metadata": {
        "id": "mYjo4mjCVh2g"
      }
    },
    {
      "cell_type": "code",
      "source": [
        ""
      ],
      "metadata": {
        "id": "U28cYQd6Vkom"
      },
      "execution_count": null,
      "outputs": []
    },
    {
      "cell_type": "markdown",
      "source": [
        "## EXERCISE 17 - Matrix Transpose\n",
        "Output the transpose of a matrix (as numpy array)"
      ],
      "metadata": {
        "id": "S2JRZxdmVkyT"
      }
    },
    {
      "cell_type": "code",
      "source": [
        ""
      ],
      "metadata": {
        "id": "qmiWFE4NVoHb"
      },
      "execution_count": null,
      "outputs": []
    },
    {
      "cell_type": "markdown",
      "source": [
        "## EXERCISE 18 - Sine of an Angle (in radians)\n",
        "Calculate the sine of an array of angles (in radians) using NumPy"
      ],
      "metadata": {
        "id": "b8tx5Gy6VoYv"
      }
    },
    {
      "cell_type": "code",
      "source": [
        ""
      ],
      "metadata": {
        "id": "IA63fmmEVq77"
      },
      "execution_count": null,
      "outputs": []
    },
    {
      "cell_type": "markdown",
      "source": [
        "## EXERCISE 19 - Cosine Similarity\n",
        "Calculate the cosine similarity of 2 vectors (as numpy arrays)"
      ],
      "metadata": {
        "id": "gXXDRtv4VrGg"
      }
    },
    {
      "cell_type": "code",
      "source": [
        ""
      ],
      "metadata": {
        "id": "M2YraauPVurx"
      },
      "execution_count": null,
      "outputs": []
    },
    {
      "cell_type": "markdown",
      "source": [
        "## EXERCISE 20 - Generating the array element indexes such that the array elements appear in ascending order\n",
        "Output the array element indexes such that the array elements appear in the ascending order"
      ],
      "metadata": {
        "id": "OLcbJZxxVu1H"
      }
    },
    {
      "cell_type": "code",
      "source": [
        ""
      ],
      "metadata": {
        "id": "fMOk_sECVzKP"
      },
      "execution_count": null,
      "outputs": []
    }
  ]
}